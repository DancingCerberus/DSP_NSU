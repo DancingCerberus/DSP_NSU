{
 "cells": [
  {
   "cell_type": "code",
   "id": "initial_id",
   "metadata": {
    "collapsed": true,
    "ExecuteTime": {
     "end_time": "2024-10-15T12:05:36.304821Z",
     "start_time": "2024-10-15T12:05:36.183515Z"
    }
   },
   "source": [
    "from math import pi, cos, sqrt\n",
    "import numpy as np\n",
    "import matplotlib.pyplot as plt\n",
    "\n",
    "freq_fst = 50\n",
    "freq_snd = 150\n",
    "freq_trd = 450\n",
    "def w(frequency):\n",
    "    return 2 * pi * frequency\n",
    "\n",
    "def x(t):\n",
    "    return cos(w(freq_fst) * t) + cos(w(freq_snd) * t) + cos(w(freq_trd) * t)\n",
    "\n",
    "x_val = 0\n",
    "x_values = []\n",
    "y_values = []\n",
    "steps = 10000\n",
    "\n",
    "for i in range(steps):\n",
    "    x_values.append(x_val)\n",
    "    y_values.append(x(x_val))\n",
    "    x_val += 1 / steps\n",
    "\n",
    "plt.subplot(2, 1, 1)\n",
    "plt.plot(x_values, y_values)\n",
    "plt.axis((0, 0.1, -2.5, 2.5))\n",
    "plt.ylabel(\"Сигнал\")\n",
    "plt.show()\n",
    "\n",
    "freq_values = np.fft.fftfreq(steps, 1 / steps)\n",
    "\n",
    "density_values = 2 * abs(np.fft.fft(y_values)) / steps\n",
    "\n",
    "plt.subplot(2, 1, 2)\n",
    "plt.plot(freq_values, density_values)\n",
    "plt.xlim(0, 500)\n",
    "plt.ylabel(\"Спектр сигнала\")\n",
    "plt.show()"
   ],
   "execution_count": 131,
   "outputs": []
  },
  {
   "metadata": {
    "ExecuteTime": {
     "end_time": "2024-10-15T12:22:00.094111Z",
     "start_time": "2024-10-15T12:22:00.091062Z"
    }
   },
   "cell_type": "code",
   "source": [
    "def butterworth_general(freq_in, freq_cutoff):\n",
    "    omega = freq_in / freq_cutoff\n",
    "    return 1 / (-omega**2 + 1j * sqrt(2) * omega + 1)\n",
    "\n",
    "def butterworth(freq_in, freq_cutoff):\n",
    "    if freq_in == 0:\n",
    "        return 1\n",
    "    num = (w(freq_cutoff)**2)\n",
    "    denom = -w(freq_in)**2 + 1j * sqrt(2) * w(freq_cutoff) * w(freq_in) + w(freq_cutoff)**2\n",
    "    res = num / denom\n",
    "    return res"
   ],
   "id": "b47ee6cfb8a35728",
   "execution_count": 147,
   "outputs": []
  },
  {
   "metadata": {
    "ExecuteTime": {
     "end_time": "2024-10-15T12:22:27.991262Z",
     "start_time": "2024-10-15T12:22:23.985562Z"
    }
   },
   "cell_type": "code",
   "source": [
    "freq_cutoff = 70\n",
    "\n",
    "H_filter = [butterworth_general(f, freq_cutoff) for f in freq_values]\n",
    "density_values_filtered = abs(density_values * H_filter)\n",
    "\n",
    "y_values_filtered = np.fft.ifft(density_values_filtered)\n",
    "\n",
    "plt.subplot(2, 2, 1)\n",
    "plt.plot(freq_values, density_values)\n",
    "plt.ylabel(\"Оригинал\")\n",
    "plt.xlim(0, 500)\n",
    "plt.autoscale(axis='y')\n",
    "\n",
    "plt.subplot(2, 2, 2)\n",
    "plt.plot(x_values, y_values)\n",
    "plt.axis((0, 0.1, -2.5, 2.5))\n",
    "plt.ylabel(\"Cигнал\")\n",
    "plt.show()\n",
    "\n",
    "plt.subplot(2, 2, 1)\n",
    "plt.plot(freq_values, density_values_filtered)\n",
    "plt.xlim(0, 500)\n",
    "plt.autoscale(axis='y')\n",
    "plt.ylabel(\"Отфильтрованный спектр сигнала\")\n",
    "\n",
    "plt.subplot(2, 2, 2)\n",
    "plt.plot(x_values, H_filter)\n",
    "plt.axis((0, 0.1, -2.5, 2.5))\n",
    "plt.autoscale(axis='y')\n",
    "plt.ylabel(\"Отфильтрованный сигнал\")\n",
    "plt.show()"
   ],
   "id": "ce2f3efe7934a016",
   "execution_count": 149,
   "outputs": []
  },
  {
   "metadata": {
    "ExecuteTime": {
     "end_time": "2024-10-15T12:05:36.627220Z",
     "start_time": "2024-10-15T12:05:36.625622Z"
    }
   },
   "cell_type": "code",
   "source": "",
   "id": "a1af898503c1b923",
   "execution_count": 133,
   "outputs": []
  }
 ],
 "metadata": {
  "kernelspec": {
   "display_name": "Python 3",
   "language": "python",
   "name": "python3"
  },
  "language_info": {
   "codemirror_mode": {
    "name": "ipython",
    "version": 2
   },
   "file_extension": ".py",
   "mimetype": "text/x-python",
   "name": "python",
   "nbconvert_exporter": "python",
   "pygments_lexer": "ipython2",
   "version": "2.7.6"
  }
 },
 "nbformat": 4,
 "nbformat_minor": 5
}
